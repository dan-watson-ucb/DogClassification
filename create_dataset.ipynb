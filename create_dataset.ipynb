{
 "cells": [
  {
   "cell_type": "code",
   "execution_count": 36,
   "metadata": {
    "collapsed": true
   },
   "outputs": [],
   "source": [
    "from google.cloud import storage\n",
    "import pandas as pd\n",
    "storage_client = storage.Client()"
   ]
  },
  {
   "cell_type": "code",
   "execution_count": 37,
   "outputs": [],
   "source": [
    "bucket_name = 'dkw-dog-images-central-only'\n",
    "bucket = storage_client.get_bucket(bucket_name)"
   ],
   "metadata": {
    "collapsed": false,
    "pycharm": {
     "name": "#%%\n"
    }
   }
  },
  {
   "cell_type": "code",
   "execution_count": 38,
   "outputs": [
    {
     "data": {
      "text/plain": "<Bucket: dkw-dog-images-central-only>"
     },
     "execution_count": 38,
     "metadata": {},
     "output_type": "execute_result"
    }
   ],
   "source": [
    "\n",
    "bucket"
   ],
   "metadata": {
    "collapsed": false,
    "pycharm": {
     "name": "#%%\n"
    }
   }
  },
  {
   "cell_type": "code",
   "execution_count": 39,
   "outputs": [],
   "source": [
    "location_list = []\n",
    "label = []\n",
    "for file in storage_client.list_blobs(bucket):\n",
    "    file_name = file.name\n",
    "    location = f'gs://{bucket_name}/{file_name}'\n",
    "    breed = file_name.split(\"-\")[1].split(\"/\")[0]\n",
    "    location_list.append(location)\n",
    "    label.append(breed)"
   ],
   "metadata": {
    "collapsed": false,
    "pycharm": {
     "name": "#%%\n"
    }
   }
  },
  {
   "cell_type": "code",
   "execution_count": 40,
   "outputs": [],
   "source": [
    "df = pd.DataFrame({'location': location_list, 'label': label})"
   ],
   "metadata": {
    "collapsed": false,
    "pycharm": {
     "name": "#%%\n"
    }
   }
  },
  {
   "cell_type": "code",
   "execution_count": 41,
   "outputs": [
    {
     "data": {
      "text/plain": "                                            location      label\n0  gs://dkw-dog-images-central-only/n02085620-Chi...  Chihuahua\n1  gs://dkw-dog-images-central-only/n02085620-Chi...  Chihuahua\n2  gs://dkw-dog-images-central-only/n02085620-Chi...  Chihuahua\n3  gs://dkw-dog-images-central-only/n02085620-Chi...  Chihuahua\n4  gs://dkw-dog-images-central-only/n02085620-Chi...  Chihuahua",
      "text/html": "<div>\n<style scoped>\n    .dataframe tbody tr th:only-of-type {\n        vertical-align: middle;\n    }\n\n    .dataframe tbody tr th {\n        vertical-align: top;\n    }\n\n    .dataframe thead th {\n        text-align: right;\n    }\n</style>\n<table border=\"1\" class=\"dataframe\">\n  <thead>\n    <tr style=\"text-align: right;\">\n      <th></th>\n      <th>location</th>\n      <th>label</th>\n    </tr>\n  </thead>\n  <tbody>\n    <tr>\n      <th>0</th>\n      <td>gs://dkw-dog-images-central-only/n02085620-Chi...</td>\n      <td>Chihuahua</td>\n    </tr>\n    <tr>\n      <th>1</th>\n      <td>gs://dkw-dog-images-central-only/n02085620-Chi...</td>\n      <td>Chihuahua</td>\n    </tr>\n    <tr>\n      <th>2</th>\n      <td>gs://dkw-dog-images-central-only/n02085620-Chi...</td>\n      <td>Chihuahua</td>\n    </tr>\n    <tr>\n      <th>3</th>\n      <td>gs://dkw-dog-images-central-only/n02085620-Chi...</td>\n      <td>Chihuahua</td>\n    </tr>\n    <tr>\n      <th>4</th>\n      <td>gs://dkw-dog-images-central-only/n02085620-Chi...</td>\n      <td>Chihuahua</td>\n    </tr>\n  </tbody>\n</table>\n</div>"
     },
     "execution_count": 41,
     "metadata": {},
     "output_type": "execute_result"
    }
   ],
   "source": [
    "df.head()"
   ],
   "metadata": {
    "collapsed": false,
    "pycharm": {
     "name": "#%%\n"
    }
   }
  },
  {
   "cell_type": "code",
   "execution_count": 42,
   "outputs": [],
   "source": [
    "df.to_csv('dog_dataset.csv', header=None, index = False)\n"
   ],
   "metadata": {
    "collapsed": false,
    "pycharm": {
     "name": "#%%\n"
    }
   }
  },
  {
   "cell_type": "code",
   "execution_count": null,
   "outputs": [],
   "source": [],
   "metadata": {
    "collapsed": false,
    "pycharm": {
     "name": "#%%\n"
    }
   }
  }
 ],
 "metadata": {
  "kernelspec": {
   "display_name": "Python 3",
   "language": "python",
   "name": "python3"
  },
  "language_info": {
   "codemirror_mode": {
    "name": "ipython",
    "version": 2
   },
   "file_extension": ".py",
   "mimetype": "text/x-python",
   "name": "python",
   "nbconvert_exporter": "python",
   "pygments_lexer": "ipython2",
   "version": "2.7.6"
  }
 },
 "nbformat": 4,
 "nbformat_minor": 0
}